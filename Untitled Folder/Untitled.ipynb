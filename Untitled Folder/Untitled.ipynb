{
 "cells": [
  {
   "cell_type": "code",
   "execution_count": 27,
   "metadata": {},
   "outputs": [],
   "source": [
    "def count_ways(expr, res):\n",
    "    \n",
    "    if(len(expr) == 1):\n",
    "    \n",
    "        if(expr == \"1\" and res):\n",
    "            return 1;\n",
    "        elif(expr == \"0\" and res == False):\n",
    "            return 1;\n",
    "        else:\n",
    "            return 0\n",
    "    \n",
    "    n_ways = 0\n",
    "    for i in range(len(expr)):\n",
    "        #print(expr[i])\n",
    "        if(expr[i] == \"&\"):\n",
    "            #print(\"Entering here1\", i)\n",
    "            if(res):\n",
    "                n_ways +=  count_ways(expr[:i], True) * count_ways(expr[i + 1:], True);\n",
    "            else:\n",
    "                n_ways += count_ways(expr[:i], False) * count_ways(expr[i + 1:], True) + \\\n",
    "                count_ways(expr[:i], True) * count_ways(expr[i + 1:], False) + \\\n",
    "                count_ways(expr[:i], False) * count_ways(expr[i + 1:], False)\n",
    "            \n",
    "        elif(expr[i] == \"|\"):\n",
    "            #print(\"Entering here2\", i)\n",
    "            if(res):\n",
    "                n_ways += count_ways(expr[:i], True) * count_ways(expr[i + 1:], True) + \\\n",
    "                count_ways(expr[:i], False) * count_ways(expr[i + 1:], True) + \\\n",
    "                count_ways(expr[:i], True) * count_ways(expr[i + 1:], False)\n",
    "            else:\n",
    "\n",
    "                n_ways += count_ways(expr[:i], False) * count_ways(expr[i + 1:], False)\n",
    "            \n",
    "        elif(expr[i] == \"^\"):\n",
    "            #print(\"Entering here3\", i)\n",
    "            if(res):\n",
    "                n_ways += count_ways(expr[:i], False) * count_ways(expr[i + 1:], True) + \\\n",
    "                count_ways(expr[:i], True) * count_ways(expr[i + 1:], False) + \\\n",
    "                count_ways(expr[:i], False) * count_ways(expr[i + 1:], False)\n",
    "            else:\n",
    "                n_ways += count_ways(expr[:i], True) * count_ways(expr[i + 1:], True);\n",
    "               \n",
    "        \n",
    "    return n_ways; "
   ]
  },
  {
   "cell_type": "code",
   "execution_count": 31,
   "metadata": {},
   "outputs": [
    {
     "data": {
      "text/plain": [
       "10"
      ]
     },
     "execution_count": 31,
     "metadata": {},
     "output_type": "execute_result"
    }
   ],
   "source": [
    "count_ways(\"0&0&0&1^1|0\", True)"
   ]
  },
  {
   "cell_type": "code",
   "execution_count": 48,
   "metadata": {},
   "outputs": [],
   "source": [
    "def merge(array, aux, lo, mid, hi):\n",
    "    #print(\"Entering merge\", lo, mid, hi)\n",
    "    \n",
    "    for i in range(lo, hi + 1):\n",
    "        aux[i] = array[i];\n",
    "    \n",
    "    i = lo\n",
    "    j = mid + 1\n",
    "        \n",
    "    for k in range(lo, hi + 1):\n",
    "        if(i > mid):\n",
    "            array[k] = aux[j];\n",
    "            j += 1;\n",
    "        elif(j > hi):\n",
    "            array[k] = aux[i];\n",
    "            i += 1;\n",
    "        elif(aux[i] < aux[j]):\n",
    "            array[k] = aux[i];\n",
    "            i +=1;\n",
    "        else:\n",
    "            array[k] = aux[j];\n",
    "            j += 1;\n",
    "            \n",
    "        #print(i, j)\n",
    "\n",
    "def merge_sort(array, aux, lo, hi):\n",
    "    if(lo < hi):\n",
    "        mid = (lo + hi)//2;\n",
    "        merge_sort(array, aux, lo, mid);\n",
    "        merge_sort(array, aux, mid + 1, hi);\n",
    "        merge(array, aux, lo, mid, hi);\n",
    "\n",
    "def sort(array):\n",
    "    aux = array[:]\n",
    "    merge_sort(array, aux, 0, len(array) - 1);"
   ]
  },
  {
   "cell_type": "code",
   "execution_count": 59,
   "metadata": {},
   "outputs": [],
   "source": [
    "import numpy as np\n",
    "array = list(np.random.permutation(10))\n",
    "sort(array)"
   ]
  },
  {
   "cell_type": "code",
   "execution_count": 60,
   "metadata": {},
   "outputs": [
    {
     "data": {
      "text/plain": [
       "[0, 1, 2, 3, 4, 5, 6, 7, 8, 9]"
      ]
     },
     "execution_count": 60,
     "metadata": {},
     "output_type": "execute_result"
    }
   ],
   "source": [
    "array"
   ]
  },
  {
   "cell_type": "code",
   "execution_count": 88,
   "metadata": {},
   "outputs": [],
   "source": [
    "def quick_sort(array, lo, hi):\n",
    "    if(lo < hi):\n",
    "        j = partition(array, lo, hi);\n",
    "        quick_sort(array, lo, j - 1);\n",
    "        quick_sort(array, j + 1, hi);\n",
    "    \n",
    "def partition(array, lo, hi):\n",
    "    \n",
    "    p = array[lo];\n",
    "    i = lo + 1;\n",
    "    j = hi;\n",
    "    \n",
    "    while(i <= j):\n",
    "        while(i <= hi and array[i] < p):\n",
    "            i += 1;\n",
    "            \n",
    "        while(array[j] > p):\n",
    "            j -= 1;\n",
    "            \n",
    "        print(\"Invalid indexes\", i, j)\n",
    "            \n",
    "        if(i > j):\n",
    "            break;\n",
    "            \n",
    "        tmp = array[i];\n",
    "        array[i] = array[j]\n",
    "        array[j] = tmp;\n",
    "        \n",
    "        print(\"Swap\", array)\n",
    "        \n",
    "        i += 1;\n",
    "        j -= 1;\n",
    "        \n",
    "    tmp = array[lo];\n",
    "    array[lo] = array[j]\n",
    "    array[j] = tmp;\n",
    "        \n",
    "    print(lo, hi, j, array)\n",
    "    return j;\n",
    "        \n",
    "def sort(array):\n",
    "    quick_sort(array, 0, len(array) - 1);\n",
    "    "
   ]
  },
  {
   "cell_type": "code",
   "execution_count": 89,
   "metadata": {},
   "outputs": [
    {
     "name": "stdout",
     "output_type": "stream",
     "text": [
      "[1, 4, 2, 0, 3]\n",
      "Invalid indexes 1 3\n",
      "Swap [1, 0, 2, 4, 3]\n",
      "Invalid indexes 2 1\n",
      "0 4 1 [0, 1, 2, 4, 3]\n",
      "Invalid indexes 3 2\n",
      "2 4 2 [0, 1, 2, 4, 3]\n",
      "Invalid indexes 5 4\n",
      "3 4 4 [0, 1, 2, 3, 4]\n"
     ]
    }
   ],
   "source": [
    "np.random.seed(42)\n",
    "array = list(np.random.permutation(5))\n",
    "print(array)\n",
    "sort(array)"
   ]
  },
  {
   "cell_type": "code",
   "execution_count": null,
   "metadata": {},
   "outputs": [],
   "source": []
  }
 ],
 "metadata": {
  "kernelspec": {
   "display_name": "Python 3",
   "language": "python",
   "name": "python3"
  },
  "language_info": {
   "codemirror_mode": {
    "name": "ipython",
    "version": 3
   },
   "file_extension": ".py",
   "mimetype": "text/x-python",
   "name": "python",
   "nbconvert_exporter": "python",
   "pygments_lexer": "ipython3",
   "version": "3.6.8"
  }
 },
 "nbformat": 4,
 "nbformat_minor": 2
}
